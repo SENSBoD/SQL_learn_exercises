{
 "cells": [
  {
   "cell_type": "markdown",
   "metadata": {},
   "source": [
    "### Вопрос 41"
   ]
  },
  {
   "cell_type": "code",
   "execution_count": null,
   "metadata": {},
   "outputs": [],
   "source": [
    "select 'cd' as chr, cd as value \n",
    "from PC \n",
    "where code = (select max(code) from PC)\n",
    "\n",
    "union\n",
    "\n",
    "select  'model' as chr, cast(model as varchar) as value \n",
    "from PC \n",
    "where code = (select max(code) from PC)\n",
    "\n",
    "union\n",
    "\n",
    "select  'speed' as chr, cast(speed as varchar) as value \n",
    "from PC \n",
    "where code = (select max(code) from PC)\n",
    "\n",
    "union\n",
    "\n",
    "select  'ram' as chr, cast(ram as varchar) as value \n",
    "from PC \n",
    "where code = (select max(code) from PC)\n",
    "\n",
    "union\n",
    "\n",
    "select  'hd' as chr, cast(hd as varchar)  as value \n",
    "from PC \n",
    "where code = (select max(code) from PC)\n",
    "\n",
    "union\n",
    "\n",
    "select  'price' as chr, cast(price as varchar) as value \n",
    "from PC \n",
    "where code = (select max(code) from PC)"
   ]
  },
  {
   "cell_type": "code",
   "execution_count": null,
   "metadata": {},
   "outputs": [],
   "source": []
  },
  {
   "cell_type": "markdown",
   "metadata": {},
   "source": [
    "### Вопрос 51"
   ]
  },
  {
   "cell_type": "code",
   "execution_count": 3,
   "metadata": {},
   "outputs": [],
   "source": [
    "select s.name\n",
    "from Ships as s, Classes as c\n",
    "where s.class = c.class\n",
    "and c.numGuns = (select max(numGuns)\n",
    "from Classes\n",
    "where Classes.displacement = c.displacement)\n",
    "\n",
    "union\n",
    "\n",
    "select o.ship\n",
    "from Outcomes as o, Classes as c\n",
    "where o.ship = c.class\n",
    "and c.numGuns = (select max(numGuns)\n",
    "from Classes\n",
    "where Classes.displacement = c.displacement)"
   ]
  },
  {
   "cell_type": "code",
   "execution_count": null,
   "metadata": {},
   "outputs": [],
   "source": []
  }
 ],
 "metadata": {
  "kernelspec": {
   "display_name": "Python 3",
   "language": "python",
   "name": "python3"
  },
  "language_info": {
   "codemirror_mode": {
    "name": "ipython",
    "version": 3
   },
   "file_extension": ".py",
   "mimetype": "text/x-python",
   "name": "python",
   "nbconvert_exporter": "python",
   "pygments_lexer": "ipython3",
   "version": "3.6.4"
  }
 },
 "nbformat": 4,
 "nbformat_minor": 2
}
