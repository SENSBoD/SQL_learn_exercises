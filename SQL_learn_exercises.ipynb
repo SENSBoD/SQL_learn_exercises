{
 "cells": [
  {
   "cell_type": "markdown",
   "metadata": {},
   "source": [
    "1) Find the model number, speed and hard drive capacity for all the PCs with prices below $500.Result set: model, speed, hd."
   ]
  },
  {
   "cell_type": "code",
   "execution_count": null,
   "metadata": {},
   "outputs": [],
   "source": [
    "select model, speed, hd\n",
    "from PC\n",
    "where price < 500"
   ]
  },
  {
   "cell_type": "markdown",
   "metadata": {},
   "source": [
    "2) List all printer makers. Result set: maker."
   ]
  },
  {
   "cell_type": "code",
   "execution_count": null,
   "metadata": {},
   "outputs": [],
   "source": [
    "select distinct maker\n",
    "from Product\n",
    "where type = 'Printer'"
   ]
  },
  {
   "cell_type": "markdown",
   "metadata": {},
   "source": [
    "3) Find the model number, RAM and screen size of the laptops with prices over $1000."
   ]
  },
  {
   "cell_type": "code",
   "execution_count": null,
   "metadata": {},
   "outputs": [],
   "source": [
    "select model, ram, screen\n",
    "from Laptop\n",
    "where price > 1000"
   ]
  },
  {
   "cell_type": "markdown",
   "metadata": {},
   "source": [
    "4) Find all records from the Printer table containing data about color printers."
   ]
  },
  {
   "cell_type": "code",
   "execution_count": null,
   "metadata": {},
   "outputs": [],
   "source": [
    "select *\n",
    "from Printer\n",
    "where color = 'y'"
   ]
  },
  {
   "cell_type": "markdown",
   "metadata": {},
   "source": [
    "5) Find the model number, speed and hard drive capacity of PCs cheaper than $600 having a 12x or a 24x CD drive."
   ]
  },
  {
   "cell_type": "code",
   "execution_count": null,
   "metadata": {},
   "outputs": [],
   "source": [
    "select model, speed, hd\n",
    "from PC\n",
    "where price < 600\n",
    "and cd in ('12x','24x')"
   ]
  },
  {
   "cell_type": "code",
   "execution_count": null,
   "metadata": {},
   "outputs": [],
   "source": [
    "6) "
   ]
  },
  {
   "cell_type": "markdown",
   "metadata": {},
   "source": [
    "50) Find the battles in which Kongo-class ships from the Ships table were engaged."
   ]
  },
  {
   "cell_type": "code",
   "execution_count": null,
   "metadata": {},
   "outputs": [],
   "source": []
  },
  {
   "cell_type": "markdown",
   "metadata": {},
   "source": [
    "41) For the PC in the PC table with the maximum code value, obtain all its characteristics (except for the code) and display them in two columns:\n",
    "- name of the characteristic (title of the corresponding column in the PC table);\n",
    "- its respective value."
   ]
  },
  {
   "cell_type": "code",
   "execution_count": null,
   "metadata": {},
   "outputs": [],
   "source": [
    "select 'cd' as chr, cd as value \n",
    "from PC \n",
    "where code = (select max(code) from PC)\n",
    "\n",
    "union\n",
    "\n",
    "select  'model' as chr, cast(model as varchar) as value \n",
    "from PC \n",
    "where code = (select max(code) from PC)\n",
    "\n",
    "union\n",
    "\n",
    "select  'speed' as chr, cast(speed as varchar) as value \n",
    "from PC \n",
    "where code = (select max(code) from PC)\n",
    "\n",
    "union\n",
    "\n",
    "select  'ram' as chr, cast(ram as varchar) as value \n",
    "from PC \n",
    "where code = (select max(code) from PC)\n",
    "\n",
    "union\n",
    "\n",
    "select  'hd' as chr, cast(hd as varchar)  as value \n",
    "from PC \n",
    "where code = (select max(code) from PC)\n",
    "\n",
    "union\n",
    "\n",
    "select  'price' as chr, cast(price as varchar) as value \n",
    "from PC \n",
    "where code = (select max(code) from PC)"
   ]
  },
  {
   "cell_type": "code",
   "execution_count": null,
   "metadata": {},
   "outputs": [],
   "source": []
  },
  {
   "cell_type": "markdown",
   "metadata": {},
   "source": [
    "51) Find the names of the ships with the largest number of guns among all ships having the same displacement (including ships in the Outcomes table)."
   ]
  },
  {
   "cell_type": "code",
   "execution_count": 3,
   "metadata": {},
   "outputs": [],
   "source": [
    "select s.name\n",
    "from Ships as s, Classes as c\n",
    "where s.class = c.class\n",
    "and c.numGuns = (select max(numGuns)\n",
    "from Classes\n",
    "where Classes.displacement = c.displacement)\n",
    "\n",
    "union\n",
    "\n",
    "select o.ship\n",
    "from Outcomes as o, Classes as c\n",
    "where o.ship = c.class\n",
    "and c.numGuns = (select max(numGuns)\n",
    "from Classes\n",
    "where Classes.displacement = c.displacement)"
   ]
  },
  {
   "cell_type": "code",
   "execution_count": null,
   "metadata": {},
   "outputs": [],
   "source": []
  }
 ],
 "metadata": {
  "kernelspec": {
   "display_name": "Python 3",
   "language": "python",
   "name": "python3"
  },
  "language_info": {
   "codemirror_mode": {
    "name": "ipython",
    "version": 3
   },
   "file_extension": ".py",
   "mimetype": "text/x-python",
   "name": "python",
   "nbconvert_exporter": "python",
   "pygments_lexer": "ipython3",
   "version": "3.6.4"
  }
 },
 "nbformat": 4,
 "nbformat_minor": 2
}
